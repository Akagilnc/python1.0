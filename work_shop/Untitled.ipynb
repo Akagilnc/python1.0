{
 "cells": [
  {
   "cell_type": "code",
   "execution_count": 12,
   "metadata": {},
   "outputs": [],
   "source": [
    "from selenium.webdriver import Chrome\n",
    "from selenium.webdriver.chrome.options import Options\n",
    "import pandas as pd\n",
    "\n",
    "address = '''https://search.51job.com/list/020000,000000,0000,03,9,99,%25E6%2595%25B0%25E6%258D%25AE%25E5%2588%2586%25E6%259E%2590,2,%7B%7D.html?lang=c&postchannel=0000&workyear=99&cotype=99&degreefrom=99&jobterm=99&companysize=99&ord_field=0&dibiaoid=0&line=&welfare='''\n",
    "\n",
    "browser = Chrome()\n",
    "browser.get(address)\n",
    "titles = browser.find_elements_by_css_selector('#resultList > div')\n",
    "infos_list = []\n",
    "for title in titles:\n",
    "    if title.get_attribute('class') != 'el':\n",
    "        continue\n",
    "    infos = title.find_elements_by_tag_name('span')\n",
    "    infos_list.append({'职位名称': infos[0].text, \n",
    "                       '公司名': infos[1].text,\n",
    "                       '工作地点': infos[2].text,\n",
    "                       '薪资': infos[3].text,\n",
    "                       '发布时间': infos[4].text})\n",
    "browser.close()\n",
    "\n",
    "df = pd.DataFrame(infos_list)\n",
    "writer = pd.ExcelWriter('./test_1.xlsx', encoding='utf_8')\n",
    "df.to_excel(writer, index=False)\n",
    "writer.save()"
   ]
  },
  {
   "cell_type": "code",
   "execution_count": null,
   "metadata": {},
   "outputs": [],
   "source": []
  }
 ],
 "metadata": {
  "kernelspec": {
   "display_name": "Python 3",
   "language": "python",
   "name": "python3"
  },
  "language_info": {
   "codemirror_mode": {
    "name": "ipython",
    "version": 3
   },
   "file_extension": ".py",
   "mimetype": "text/x-python",
   "name": "python",
   "nbconvert_exporter": "python",
   "pygments_lexer": "ipython3",
   "version": "3.7.6"
  }
 },
 "nbformat": 4,
 "nbformat_minor": 4
}
