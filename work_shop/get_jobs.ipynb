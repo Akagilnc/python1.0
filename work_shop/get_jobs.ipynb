{
 "cells": [
  {
   "cell_type": "code",
   "execution_count": 7,
   "metadata": {},
   "outputs": [],
   "source": [
    "from selenium.webdriver import Chrome\n",
    "from selenium.webdriver.chrome.options import Options\n",
    "import pandas as pd\n",
    "\n",
    "def get_single_page_data(input_browser):\n",
    "    titles = input_browser.find_elements_by_css_selector('#resultList > div')\n",
    "    infos_list = []\n",
    "    for infos in titles:\n",
    "        if infos.get_attribute('class') != 'el':\n",
    "            continue\n",
    "        info = infos.find_elements_by_tag_name('span')\n",
    "        infos_list.append({\n",
    "             '职位名': info[0].text,\n",
    "             '职位链接': info[0].find_element_by_tag_name('a').get_attribute('href'),\n",
    "             '公司名': info[1].text,\n",
    "             '工作地点': info[2].text,\n",
    "             '薪资': info[3].text,\n",
    "             '发布时间': info[4].text})\n",
    "    return pd.DataFrame(infos_list)"
   ]
  },
  {
   "cell_type": "code",
   "execution_count": 8,
   "metadata": {
    "pycharm": {
     "name": "#%%\n"
    }
   },
   "outputs": [],
   "source": [
    "def write_data_to_excel(data):\n",
    "    data.to_excel('./51jobs.xlsx', index=False)\n",
    "\n"
   ]
  },
  {
   "cell_type": "code",
   "execution_count": 9,
   "metadata": {
    "pycharm": {
     "name": "#%%\n"
    }
   },
   "outputs": [
    {
     "name": "stdout",
     "output_type": "stream",
     "text": [
      "doing 1/1\n"
     ]
    }
   ],
   "source": [
    "address = '''https://search.51job.com/list/020000,000000,0000,03,9,99,%25E6%2595%25B0%25E6%258D%25AE%25E5%2588%2586%25E6%259E%2590,2,{}.html?lang=c&postchannel=0000&workyear=99&cotype=99&degreefrom=99&jobterm=99&companysize=99&ord_field=0&dibiaoid=0&line=&welfare='''\n",
    "\n",
    "option = Options()\n",
    "option.headless = True\n",
    "browser = Chrome(options=option)\n",
    "df_result = pd.DataFrame()\n",
    "max_page = 1\n",
    "for i in range(1, max_page + 1):\n",
    "    print('doing {}/{}'.format(i, max_page))\n",
    "    browser.get(address.format(i))\n",
    "\n",
    "\n",
    "    df = get_single_page_data(browser)\n",
    "    df_result = df_result.append(df)\n",
    "browser.quit()"
   ]
  },
  {
   "cell_type": "code",
   "execution_count": null,
   "outputs": [],
   "source": [],
   "metadata": {
    "collapsed": false,
    "pycharm": {
     "name": "#%%\n"
    }
   }
  },
  {
   "cell_type": "code",
   "execution_count": 5,
   "metadata": {},
   "outputs": [
    {
     "data": {
      "text/html": [
       "<div>\n",
       "<style scoped>\n",
       "    .dataframe tbody tr th:only-of-type {\n",
       "        vertical-align: middle;\n",
       "    }\n",
       "\n",
       "    .dataframe tbody tr th {\n",
       "        vertical-align: top;\n",
       "    }\n",
       "\n",
       "    .dataframe thead th {\n",
       "        text-align: right;\n",
       "    }\n",
       "</style>\n",
       "<table border=\"1\" class=\"dataframe\">\n",
       "  <thead>\n",
       "    <tr style=\"text-align: right;\">\n",
       "      <th></th>\n",
       "      <th>职位名</th>\n",
       "      <th>公司名</th>\n",
       "      <th>工作地点</th>\n",
       "      <th>薪资</th>\n",
       "      <th>发布时间</th>\n",
       "    </tr>\n",
       "  </thead>\n",
       "  <tbody>\n",
       "    <tr>\n",
       "      <th>0</th>\n",
       "      <td>大数据分析工程师</td>\n",
       "      <td>“前程无忧”51job.com（上海）</td>\n",
       "      <td>上海-浦东新区</td>\n",
       "      <td></td>\n",
       "      <td>05-03</td>\n",
       "    </tr>\n",
       "    <tr>\n",
       "      <th>1</th>\n",
       "      <td>贷后数据分析</td>\n",
       "      <td>360金融</td>\n",
       "      <td>上海-浦东新区</td>\n",
       "      <td>1.2-2万/月</td>\n",
       "      <td>05-03</td>\n",
       "    </tr>\n",
       "    <tr>\n",
       "      <th>2</th>\n",
       "      <td>稽核经理（ 数据分析 ）</td>\n",
       "      <td>远东国际融资租赁有限公司</td>\n",
       "      <td>上海-浦东新区</td>\n",
       "      <td>25-45万/年</td>\n",
       "      <td>05-03</td>\n",
       "    </tr>\n",
       "    <tr>\n",
       "      <th>3</th>\n",
       "      <td>数据分析师</td>\n",
       "      <td>上海泰链信息科技股份有限公司</td>\n",
       "      <td>上海-浦东新区</td>\n",
       "      <td>2-2.5万/月</td>\n",
       "      <td>05-03</td>\n",
       "    </tr>\n",
       "    <tr>\n",
       "      <th>4</th>\n",
       "      <td>数据分析咨询师 Business Consultant</td>\n",
       "      <td>菲缔信息科技（上海）有限公司</td>\n",
       "      <td>上海-静安区</td>\n",
       "      <td>1-1.5万/月</td>\n",
       "      <td>05-03</td>\n",
       "    </tr>\n",
       "    <tr>\n",
       "      <th>5</th>\n",
       "      <td>数据分析岗</td>\n",
       "      <td>诺亚正行基金销售有限公司</td>\n",
       "      <td>上海-杨浦区</td>\n",
       "      <td>6-8千/月</td>\n",
       "      <td>05-03</td>\n",
       "    </tr>\n",
       "    <tr>\n",
       "      <th>6</th>\n",
       "      <td>总公司 数据分析岗</td>\n",
       "      <td>陆家嘴国泰人寿保险有限责任公司</td>\n",
       "      <td>上海-浦东新区</td>\n",
       "      <td>15-20万/年</td>\n",
       "      <td>05-02</td>\n",
       "    </tr>\n",
       "    <tr>\n",
       "      <th>7</th>\n",
       "      <td>总行公司金融部数据分析岗</td>\n",
       "      <td>上海农商银行/上海农村商业银行股...</td>\n",
       "      <td>上海</td>\n",
       "      <td>2-2.5万/月</td>\n",
       "      <td>05-02</td>\n",
       "    </tr>\n",
       "    <tr>\n",
       "      <th>8</th>\n",
       "      <td>Senior Data Modeler 高级数据分析师</td>\n",
       "      <td>益博睿信息技术（北京）有限公司</td>\n",
       "      <td>上海-黄浦区</td>\n",
       "      <td>2.5-3.5万/月</td>\n",
       "      <td>05-02</td>\n",
       "    </tr>\n",
       "    <tr>\n",
       "      <th>9</th>\n",
       "      <td>总部-理赔部-理赔数据分析岗</td>\n",
       "      <td>太保安联健康保险股份有限公司</td>\n",
       "      <td>上海</td>\n",
       "      <td>0.8-2.5万/月</td>\n",
       "      <td>05-01</td>\n",
       "    </tr>\n",
       "  </tbody>\n",
       "</table>\n",
       "</div>"
      ],
      "text/plain": [
       "                           职位名                  公司名     工作地点          薪资  \\\n",
       "0                     大数据分析工程师  “前程无忧”51job.com（上海）  上海-浦东新区               \n",
       "1                       贷后数据分析                360金融  上海-浦东新区    1.2-2万/月   \n",
       "2                 稽核经理（ 数据分析 ）         远东国际融资租赁有限公司  上海-浦东新区    25-45万/年   \n",
       "3                        数据分析师       上海泰链信息科技股份有限公司  上海-浦东新区    2-2.5万/月   \n",
       "4  数据分析咨询师 Business Consultant       菲缔信息科技（上海）有限公司   上海-静安区    1-1.5万/月   \n",
       "5                        数据分析岗         诺亚正行基金销售有限公司   上海-杨浦区      6-8千/月   \n",
       "6                    总公司 数据分析岗      陆家嘴国泰人寿保险有限责任公司  上海-浦东新区    15-20万/年   \n",
       "7                 总行公司金融部数据分析岗  上海农商银行/上海农村商业银行股...       上海    2-2.5万/月   \n",
       "8  Senior Data Modeler 高级数据分析师      益博睿信息技术（北京）有限公司   上海-黄浦区  2.5-3.5万/月   \n",
       "9               总部-理赔部-理赔数据分析岗       太保安联健康保险股份有限公司       上海  0.8-2.5万/月   \n",
       "\n",
       "    发布时间  \n",
       "0  05-03  \n",
       "1  05-03  \n",
       "2  05-03  \n",
       "3  05-03  \n",
       "4  05-03  \n",
       "5  05-03  \n",
       "6  05-02  \n",
       "7  05-02  \n",
       "8  05-02  \n",
       "9  05-01  "
      ]
     },
     "execution_count": 5,
     "metadata": {},
     "output_type": "execute_result"
    }
   ],
   "source": []
  },
  {
   "cell_type": "code",
   "execution_count": null,
   "metadata": {},
   "outputs": [],
   "source": []
  }
 ],
 "metadata": {
  "kernelspec": {
   "display_name": "Python 3",
   "language": "python",
   "name": "python3"
  },
  "language_info": {
   "codemirror_mode": {
    "name": "ipython",
    "version": 3
   },
   "file_extension": ".py",
   "mimetype": "text/x-python",
   "name": "python",
   "nbconvert_exporter": "python",
   "pygments_lexer": "ipython3",
   "version": "3.7.6"
  }
 },
 "nbformat": 4,
 "nbformat_minor": 1
}