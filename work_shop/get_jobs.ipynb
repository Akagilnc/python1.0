{
 "cells": [
  {
   "cell_type": "code",
   "execution_count": 1,
   "metadata": {},
   "outputs": [],
   "source": [
    "from selenium.webdriver import Chrome\n",
    "from selenium.webdriver.chrome.options import Options\n",
    "import pandas as pd\n",
    "\n",
    "def get_single_page_data(input_browser):\n",
    "    titles = input_browser.find_elements_by_css_selector('#resultList > div')\n",
    "    infos_list = []\n",
    "    for infos in titles:\n",
    "        if infos.get_attribute('class') != 'el':\n",
    "            continue\n",
    "        info = infos.find_elements_by_tag_name('span')\n",
    "        infos_list.append({\n",
    "             '职位名': info[0].text,\n",
    "             '职位链接': info[0].find_element_by_tag_name('a').get_attribute('href'),\n",
    "             '公司名': info[1].text,\n",
    "             '工作地点': info[2].text,\n",
    "             '薪资': info[3].text,\n",
    "             '发布时间': info[4].text})\n",
    "    return pd.DataFrame(infos_list)"
   ]
  },
  {
   "cell_type": "code",
   "execution_count": 2,
   "metadata": {
    "pycharm": {
     "name": "#%%\n"
    }
   },
   "outputs": [],
   "source": [
    "def write_data_to_excel(data):\n",
    "    writer = pd.ExcelWriter('./51jobs.xlsx', engine='openpyxl')\n",
    "    data.to_excel(writer, index=False)\n",
    "    writer.save()\n"
   ]
  },
  {
   "cell_type": "code",
   "execution_count": 3,
   "metadata": {
    "pycharm": {
     "name": "#%%\n"
    }
   },
   "outputs": [
    {
     "name": "stdout",
     "output_type": "stream",
     "text": [
      "doing 1/1\n",
      "finished\n"
     ]
    }
   ],
   "source": [
    "address = '''https://search.51job.com/list/020000,000000,0000,03,9,99,%25E6%2595%25B0%25E6%258D%25AE%25E5%2588%2586%25E6%259E%2590,2,{}.html?lang=c&postchannel=0000&workyear=99&cotype=99&degreefrom=99&jobterm=99&companysize=99&ord_field=0&dibiaoid=0&line=&welfare='''\n",
    "\n",
    "option = Options()\n",
    "option.headless = True\n",
    "browser = Chrome(options=option)\n",
    "df_result = pd.DataFrame()\n",
    "max_page = 1\n",
    "for i in range(1, max_page + 1):\n",
    "    print('doing {}/{}'.format(i, max_page))\n",
    "    browser.get(address.format(i))\n",
    "\n",
    "    df = get_single_page_data(browser)\n",
    "    df_result = df_result.append(df)\n",
    "browser.quit()\n",
    "print('finished')\n",
    "\n",
    "write_data_to_excel(df_result)"
   ]
  },
  {
   "cell_type": "code",
   "execution_count": null,
   "metadata": {},
   "outputs": [],
   "source": []
  }
 ],
 "metadata": {
  "kernelspec": {
   "display_name": "Python 3",
   "language": "python",
   "name": "python3"
  },
  "language_info": {
   "codemirror_mode": {
    "name": "ipython",
    "version": 3
   },
   "file_extension": ".py",
   "mimetype": "text/x-python",
   "name": "python",
   "nbconvert_exporter": "python",
   "pygments_lexer": "ipython3",
   "version": "3.7.6"
  }
 },
 "nbformat": 4,
 "nbformat_minor": 1
}