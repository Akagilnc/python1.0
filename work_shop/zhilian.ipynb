{
 "cells": [
  {
   "cell_type": "code",
   "execution_count": null,
   "metadata": {
    "collapsed": true,
    "pycharm": {
     "is_executing": true
    }
   },
   "outputs": [],
   "source": [
    "from selenium.webdriver import Chrome\n",
    "from selenium.webdriver.common.by import By\n",
    "from selenium.webdriver.support.ui import WebDriverWait\n",
    "from selenium.webdriver.support import expected_conditions\n",
    "\n",
    "address = 'https://sou.zhaopin.com/?jl=538&in=100000000&sf=35001&st=50000&kw=%E6%95%B0%E6%8D%AE%E5%88%86%E6%9E%90&kt=3'\n",
    "browser = Chrome()\n",
    "browser.get(address)\n",
    "confirm_button = browser.find_element_by_css_selector('body > div.a-modal.risk-warning > div > div > button')\n",
    "confirm_button.click()"
   ]
  },
  {
   "cell_type": "code",
   "execution_count": null,
   "outputs": [],
   "source": [
    "WebDriverWait(browser, 60).until(\n",
    "  expected_conditions.text_to_be_present_in_element(\n",
    "    (By.ID, 'listContent'),\n",
    "    '资深数据分析师'\n",
    "  )\n",
    ")\n",
    "titles = browser.find_elements_by_css_selector('#listContent > div')\n",
    "print(titles)\n",
    "for info in titles:\n",
    "    print(info.text)\n",
    "browser.close()\n",
    "\n",
    "\n"
   ],
   "metadata": {
    "collapsed": false,
    "pycharm": {
     "name": "#%%\n",
     "is_executing": true
    }
   }
  }
 ],
 "metadata": {
  "kernelspec": {
   "display_name": "Python 3",
   "language": "python",
   "name": "python3"
  },
  "language_info": {
   "codemirror_mode": {
    "name": "ipython",
    "version": 2
   },
   "file_extension": ".py",
   "mimetype": "text/x-python",
   "name": "python",
   "nbconvert_exporter": "python",
   "pygments_lexer": "ipython2",
   "version": "2.7.6"
  }
 },
 "nbformat": 4,
 "nbformat_minor": 0
}